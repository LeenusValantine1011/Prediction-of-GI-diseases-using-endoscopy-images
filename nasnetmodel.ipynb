{
 "cells": [
  {
   "cell_type": "code",
   "execution_count": 2,
   "metadata": {},
   "outputs": [],
   "source": [
    "import numpy as np\n",
    "import tensorflow as tf\n",
    "from tensorflow.keras.preprocessing.image import ImageDataGenerator\n",
    "from tensorflow.keras.applications import NASNetLarge\n",
    "from tensorflow.keras.layers import GlobalAveragePooling2D, Dense\n",
    "from tensorflow.keras.models import Model\n",
    "from tensorflow.keras.optimizers import Adam\n",
    "import os"
   ]
  },
  {
   "cell_type": "code",
   "execution_count": 3,
   "metadata": {},
   "outputs": [],
   "source": [
    "dataset_path = \"C:\\main project\\kvasir-dataset-v2\""
   ]
  },
  {
   "cell_type": "code",
   "execution_count": 4,
   "metadata": {},
   "outputs": [],
   "source": [
    "img_height, img_width = 224, 224\n",
    "batch_size = 32\n",
    "validation_split = 0.2"
   ]
  },
  {
   "cell_type": "code",
   "execution_count": 6,
   "metadata": {},
   "outputs": [
    {
     "name": "stdout",
     "output_type": "stream",
     "text": [
      "Found 6400 images belonging to 8 classes.\n",
      "Found 1600 images belonging to 8 classes.\n"
     ]
    }
   ],
   "source": [
    "train_datagen = ImageDataGenerator(\n",
    "    rescale=1./255,\n",
    "    rotation_range=20,\n",
    "    width_shift_range=0.2,\n",
    "    height_shift_range=0.2,\n",
    "    shear_range=0.2,\n",
    "    zoom_range=0.2,\n",
    "    horizontal_flip=True,\n",
    "    fill_mode='nearest',\n",
    "    validation_split=validation_split)\n",
    "\n",
    "train_generator = train_datagen.flow_from_directory(\n",
    "    dataset_path,\n",
    "    target_size=(img_height, img_width),\n",
    "    batch_size=batch_size,\n",
    "    class_mode='categorical',\n",
    "    subset='training')\n",
    "\n",
    "validation_generator = train_datagen.flow_from_directory(\n",
    "    dataset_path,\n",
    "    target_size=(img_height, img_width),\n",
    "    batch_size=batch_size,\n",
    "    class_mode='categorical',\n",
    "    subset='validation')\n"
   ]
  },
  {
   "cell_type": "code",
   "execution_count": 7,
   "metadata": {},
   "outputs": [
    {
     "name": "stdout",
     "output_type": "stream",
     "text": [
      "WARNING:tensorflow:From c:\\Users\\ADMIN\\AppData\\Local\\Programs\\Python\\Python310\\lib\\site-packages\\keras\\src\\backend.py:1398: The name tf.executing_eagerly_outside_functions is deprecated. Please use tf.compat.v1.executing_eagerly_outside_functions instead.\n",
      "\n",
      "WARNING:tensorflow:From c:\\Users\\ADMIN\\AppData\\Local\\Programs\\Python\\Python310\\lib\\site-packages\\keras\\src\\layers\\normalization\\batch_normalization.py:979: The name tf.nn.fused_batch_norm is deprecated. Please use tf.compat.v1.nn.fused_batch_norm instead.\n",
      "\n",
      "Downloading data from https://storage.googleapis.com/tensorflow/keras-applications/nasnet/NASNet-large-no-top.h5\n",
      "343610240/343610240 [==============================] - 23s 0us/step\n"
     ]
    }
   ],
   "source": [
    "base_model = NASNetLarge(weights='imagenet', include_top=False, input_shape=(img_height, img_width, 3))\n"
   ]
  },
  {
   "cell_type": "code",
   "execution_count": 8,
   "metadata": {},
   "outputs": [],
   "source": [
    "# custom classification head\n",
    "x = GlobalAveragePooling2D()(base_model.output)\n",
    "x = Dense(512, activation='relu')(x)\n",
    "predictions = Dense(train_generator.num_classes, activation='softmax')(x)"
   ]
  },
  {
   "cell_type": "code",
   "execution_count": 9,
   "metadata": {},
   "outputs": [],
   "source": [
    "# Combine base model and custom head\n",
    "model = Model(inputs=base_model.input, outputs=predictions)"
   ]
  },
  {
   "cell_type": "code",
   "execution_count": 10,
   "metadata": {},
   "outputs": [],
   "source": [
    "# Freeze the base model layers\n",
    "for layer in base_model.layers:\n",
    "    layer.trainable = False"
   ]
  },
  {
   "cell_type": "code",
   "execution_count": 11,
   "metadata": {},
   "outputs": [
    {
     "name": "stderr",
     "output_type": "stream",
     "text": [
      "WARNING:absl:`lr` is deprecated in Keras optimizer, please use `learning_rate` or use the legacy optimizer, e.g.,tf.keras.optimizers.legacy.Adam.\n"
     ]
    }
   ],
   "source": [
    "# Compile the model\n",
    "model.compile(optimizer=Adam(lr=0.001), loss='categorical_crossentropy', metrics=['accuracy'])\n"
   ]
  },
  {
   "cell_type": "code",
   "execution_count": 12,
   "metadata": {},
   "outputs": [
    {
     "name": "stdout",
     "output_type": "stream",
     "text": [
      "Epoch 1/20\n",
      "WARNING:tensorflow:From c:\\Users\\ADMIN\\AppData\\Local\\Programs\\Python\\Python310\\lib\\site-packages\\keras\\src\\utils\\tf_utils.py:492: The name tf.ragged.RaggedTensorValue is deprecated. Please use tf.compat.v1.ragged.RaggedTensorValue instead.\n",
      "\n"
     ]
    },
    {
     "name": "stderr",
     "output_type": "stream",
     "text": [
      "WARNING:tensorflow:From c:\\Users\\ADMIN\\AppData\\Local\\Programs\\Python\\Python310\\lib\\site-packages\\keras\\src\\utils\\tf_utils.py:492: The name tf.ragged.RaggedTensorValue is deprecated. Please use tf.compat.v1.ragged.RaggedTensorValue instead.\n",
      "\n"
     ]
    },
    {
     "name": "stdout",
     "output_type": "stream",
     "text": [
      "WARNING:tensorflow:From c:\\Users\\ADMIN\\AppData\\Local\\Programs\\Python\\Python310\\lib\\site-packages\\keras\\src\\engine\\base_layer_utils.py:384: The name tf.executing_eagerly_outside_functions is deprecated. Please use tf.compat.v1.executing_eagerly_outside_functions instead.\n",
      "\n"
     ]
    },
    {
     "name": "stderr",
     "output_type": "stream",
     "text": [
      "WARNING:tensorflow:From c:\\Users\\ADMIN\\AppData\\Local\\Programs\\Python\\Python310\\lib\\site-packages\\keras\\src\\engine\\base_layer_utils.py:384: The name tf.executing_eagerly_outside_functions is deprecated. Please use tf.compat.v1.executing_eagerly_outside_functions instead.\n",
      "\n"
     ]
    },
    {
     "name": "stdout",
     "output_type": "stream",
     "text": [
      "200/200 [==============================] - 772s 4s/step - loss: 0.7244 - accuracy: 0.7198 - val_loss: 0.5640 - val_accuracy: 0.7700\n",
      "Epoch 2/20\n",
      "200/200 [==============================] - 584s 3s/step - loss: 0.5033 - accuracy: 0.7977 - val_loss: 0.4937 - val_accuracy: 0.8031\n",
      "Epoch 3/20\n",
      "200/200 [==============================] - 356s 2s/step - loss: 0.4604 - accuracy: 0.8123 - val_loss: 0.5645 - val_accuracy: 0.7788\n",
      "Epoch 4/20\n",
      "200/200 [==============================] - 364s 2s/step - loss: 0.4179 - accuracy: 0.8284 - val_loss: 0.5031 - val_accuracy: 0.8081\n",
      "Epoch 5/20\n",
      "200/200 [==============================] - 364s 2s/step - loss: 0.3912 - accuracy: 0.8380 - val_loss: 0.4909 - val_accuracy: 0.8019\n",
      "Epoch 6/20\n",
      "200/200 [==============================] - 367s 2s/step - loss: 0.3801 - accuracy: 0.8461 - val_loss: 0.4976 - val_accuracy: 0.7869\n",
      "Epoch 7/20\n",
      "200/200 [==============================] - 370s 2s/step - loss: 0.3652 - accuracy: 0.8430 - val_loss: 0.5175 - val_accuracy: 0.8031\n",
      "Epoch 8/20\n",
      "200/200 [==============================] - 362s 2s/step - loss: 0.3570 - accuracy: 0.8528 - val_loss: 0.4944 - val_accuracy: 0.8056\n",
      "Epoch 9/20\n",
      "200/200 [==============================] - 883s 4s/step - loss: 0.3485 - accuracy: 0.8577 - val_loss: 0.5298 - val_accuracy: 0.7950\n",
      "Epoch 10/20\n",
      "200/200 [==============================] - 984s 5s/step - loss: 0.3375 - accuracy: 0.8575 - val_loss: 0.4341 - val_accuracy: 0.8319\n",
      "Epoch 11/20\n",
      "200/200 [==============================] - 884s 4s/step - loss: 0.3269 - accuracy: 0.8667 - val_loss: 0.4952 - val_accuracy: 0.7944\n",
      "Epoch 12/20\n",
      "200/200 [==============================] - 414s 2s/step - loss: 0.3209 - accuracy: 0.8641 - val_loss: 0.4947 - val_accuracy: 0.8050\n",
      "Epoch 13/20\n",
      "200/200 [==============================] - 366s 2s/step - loss: 0.3095 - accuracy: 0.8744 - val_loss: 0.4847 - val_accuracy: 0.8131\n",
      "Epoch 14/20\n",
      "200/200 [==============================] - 502s 3s/step - loss: 0.3071 - accuracy: 0.8727 - val_loss: 0.4778 - val_accuracy: 0.8025\n",
      "Epoch 15/20\n",
      "200/200 [==============================] - 371s 2s/step - loss: 0.3110 - accuracy: 0.8733 - val_loss: 0.4765 - val_accuracy: 0.8169\n",
      "Epoch 16/20\n",
      "200/200 [==============================] - 362s 2s/step - loss: 0.2938 - accuracy: 0.8783 - val_loss: 0.5133 - val_accuracy: 0.8075\n",
      "Epoch 17/20\n",
      "200/200 [==============================] - 368s 2s/step - loss: 0.2894 - accuracy: 0.8770 - val_loss: 0.4754 - val_accuracy: 0.8200\n",
      "Epoch 18/20\n",
      "200/200 [==============================] - 363s 2s/step - loss: 0.2889 - accuracy: 0.8830 - val_loss: 0.4676 - val_accuracy: 0.8150\n",
      "Epoch 19/20\n",
      "200/200 [==============================] - 363s 2s/step - loss: 0.2791 - accuracy: 0.8855 - val_loss: 0.4277 - val_accuracy: 0.8319\n",
      "Epoch 20/20\n",
      "200/200 [==============================] - 364s 2s/step - loss: 0.2866 - accuracy: 0.8830 - val_loss: 0.5498 - val_accuracy: 0.7950\n"
     ]
    }
   ],
   "source": [
    "# Train the model\n",
    "history = model.fit(\n",
    "    train_generator,\n",
    "    steps_per_epoch=train_generator.samples // batch_size,\n",
    "    epochs=20,\n",
    "    validation_data=validation_generator,\n",
    "    validation_steps=validation_generator.samples // batch_size)"
   ]
  },
  {
   "cell_type": "code",
   "execution_count": 13,
   "metadata": {},
   "outputs": [
    {
     "name": "stdout",
     "output_type": "stream",
     "text": [
      "50/50 - 71s - loss: 0.5106 - accuracy: 0.7994 - 71s/epoch - 1s/step\n",
      "\n",
      "Test accuracy: 0.7993749976158142\n"
     ]
    }
   ],
   "source": [
    "# Evaluate the model\n",
    "test_loss, test_acc = model.evaluate(validation_generator, verbose=2)\n",
    "print('\\nTest accuracy:', test_acc)"
   ]
  }
 ],
 "metadata": {
  "kernelspec": {
   "display_name": "Python 3",
   "language": "python",
   "name": "python3"
  },
  "language_info": {
   "codemirror_mode": {
    "name": "ipython",
    "version": 3
   },
   "file_extension": ".py",
   "mimetype": "text/x-python",
   "name": "python",
   "nbconvert_exporter": "python",
   "pygments_lexer": "ipython3",
   "version": "3.10.10"
  }
 },
 "nbformat": 4,
 "nbformat_minor": 2
}
